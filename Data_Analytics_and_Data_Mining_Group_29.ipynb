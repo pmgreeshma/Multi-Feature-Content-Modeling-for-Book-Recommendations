{
  "nbformat": 4,
  "nbformat_minor": 0,
  "metadata": {
    "colab": {
      "provenance": [],
      "collapsed_sections": [
        "xUA5i0jDFaAv"
      ]
    },
    "kernelspec": {
      "name": "python3",
      "display_name": "Python 3"
    },
    "language_info": {
      "name": "python"
    }
  },
  "cells": [
    {
      "cell_type": "markdown",
      "source": [
        " **Project Title:** *Multi-Feature Content Modeling for Book Recommendations*  \n",
        "This project investigates how various book attributes — specifically genre, author, and title — can be combined and modeled using text-based feature engineering techniques such as TF-IDF and dimensionality reduction. The core research question centers around building an effective content-based recommendation system that can generate relevant book suggestions based solely on these content features.\n",
        "\n",
        "Group 29 - Saafiya, Mayuri, Greeshma, Ishika"
      ],
      "metadata": {
        "id": "L8Q_eQ3Fr0kA"
      }
    },
    {
      "cell_type": "markdown",
      "source": [
        "## ***Data Cleaning Summary***\n",
        "\n",
        "The raw dataset contained inconsistencies such as missing values, malformed text, and non-standard formats. To ensure data quality for downstream modeling, the following cleaning steps were applied:\n",
        "\n",
        "1. **Invalid and Missing Entries:** Rows with missing or invalid values in key columns (`genres`, `name`, `summary`, `author`, `star_rating`, and `first_published`) were removed.\n",
        "2. **String Evaluation:** The `genres` and `author` fields, often stored as stringified lists, were safely parsed using `ast.literal_eval` while handling exceptions.\n",
        "3. **Textual Noise Removal:** Fields containing placeholder strings like `\\\\N` or empty values were filtered out.\n",
        "4. **Type Conversion:**\n",
        "   - `star_rating` was converted to a numeric format and cleaned of non-numeric values.\n",
        "   - `first_published` was converted to datetime format and reduced to its year for temporal consistency.\n",
        "5. **Genre Standardization:** The genre list was flattened into a readable comma-separated string to maintain clarity in text-based modeling.\n",
        "6. **Final Validation:** The dataset was filtered to retain only rows with all essential information present and was saved as a new clean CSV for further analysis.\n",
        "\n",
        "This preprocessing ensures a reliable and structured dataset for developing an effective content-based recommendation system.\n"
      ],
      "metadata": {
        "id": "_ZHOeHoJwk2T"
      }
    },
    {
      "cell_type": "code",
      "source": [
        "import pandas as pd\n",
        "import numpy as np\n",
        "import ast\n",
        "import seaborn as sns\n",
        "import matplotlib.pyplot as plt\n",
        "from collections import Counter"
      ],
      "metadata": {
        "id": "EMEsVMgzy-oK"
      },
      "execution_count": 1,
      "outputs": []
    },
    {
      "cell_type": "code",
      "source": [
        "# Define the file paths\n",
        "file_path = \"/content/0000-2.csv\"\n",
        "output_file_path = \"/content/drive/MyDrive/cle.csv\""
      ],
      "metadata": {
        "id": "lkEQGvWBqiMe"
      },
      "execution_count": 15,
      "outputs": []
    },
    {
      "cell_type": "code",
      "source": [
        "# Load dataset\n",
        "df = pd.read_csv(file_path, on_bad_lines='skip', engine='c', encoding='latin-1')"
      ],
      "metadata": {
        "id": "lbjsMCkWqkJR"
      },
      "execution_count": 3,
      "outputs": []
    },
    {
      "cell_type": "code",
      "source": [
        "df.head()"
      ],
      "metadata": {
        "colab": {
          "base_uri": "https://localhost:8080/",
          "height": 625
        },
        "id": "EyutaEJQAV-R",
        "outputId": "6784b424-9665-45a9-e878-948fabd4dd78"
      },
      "execution_count": 4,
      "outputs": [
        {
          "output_type": "execute_result",
          "data": {
            "text/plain": [
              "                                                 url  \\\n",
              "0  https://www.goodreads.com/book/show/1047836.Ho...   \n",
              "1  https://www.goodreads.com/book/show/4089333-au...   \n",
              "2  https://www.goodreads.com/book/show/26764878-m...   \n",
              "3  https://www.goodreads.com/book/show/23656944-z...   \n",
              "4  https://www.goodreads.com/book/show/26761586-t...   \n",
              "\n",
              "                                        id  \\\n",
              "0  1047836.Horror_Film_Directors_1931_1990   \n",
              "1        4089333-australian-urban-planning   \n",
              "2             26764878-morgen-ohne-gestern   \n",
              "3    23656944-zen-and-the-art-of-recording   \n",
              "4       26761586-the-big-book-of-codewords   \n",
              "\n",
              "                                                name               author  \\\n",
              "0                   Horror Film Directors, 1931-1990   [\"Dennis Fischer\"]   \n",
              "1  Australian Urban Planning: New Challenges, New...  [\"Brendan Gleeson\"]   \n",
              "2                         Morgen ohne gestern: Roman  [\"Regina NÃ¶ssler\"]   \n",
              "3                       Zen and the Art of Recording         [\"Mixerman\"]   \n",
              "4                          The Big Book Of Codewords   [\"Parragon Books\"]   \n",
              "\n",
              "   star_rating  num_ratings num_reviews  \\\n",
              "0         4.29            7          \\N   \n",
              "1         3.00            1          \\N   \n",
              "2         3.00            2          \\N   \n",
              "3         4.19           88           4   \n",
              "4         4.50            6          \\N   \n",
              "\n",
              "                                             summary                  genres  \\\n",
              "0  An exhaustive study of the major directors of ...                      \\N   \n",
              "1  Designed for use by academics, students, plann...                      \\N   \n",
              "2  Christine Hoffmann wacht eines Morgens im Kran...                      \\N   \n",
              "3  In this book, the third in the Zen and the Art...  [\"Music\",\"Nonfiction\"]   \n",
              "4            500 codeword puzzles in one great book!                      \\N   \n",
              "\n",
              "  first_published                                       about_author  \\\n",
              "0       11/1/1991           {\"name\":\"Dennis Fischer\",\"num_books\":14}   \n",
              "1        2/1/2000          {\"name\":\"Brendan Gleeson\",\"num_books\":28}   \n",
              "2       9/18/2015  {\"name\":\"Regina NÃ¶ssler\",\"num_books\":28,\"num_...   \n",
              "3       10/1/2014  {\"name\":\"Mixerman\",\"num_books\":15,\"num_followe...   \n",
              "4        9/5/2015  {\"name\":\"Parragon Books\",\"num_books\":6068,\"num...   \n",
              "\n",
              "                                   community_reviews kindle_price  \n",
              "0  {\"1_stars\":{\"reviews_num\":0,\"reviews_percentag...           \\N  \n",
              "1  {\"1_stars\":{\"reviews_num\":0,\"reviews_percentag...           \\N  \n",
              "2  {\"1_stars\":{\"reviews_num\":1,\"reviews_percentag...     \"$10.89\"  \n",
              "3  {\"1_stars\":{\"reviews_num\":0,\"reviews_percentag...     \"$24.09\"  \n",
              "4  {\"1_stars\":{\"reviews_num\":0,\"reviews_percentag...           \\N  "
            ],
            "text/html": [
              "\n",
              "  <div id=\"df-e34e1fbc-6013-4ba7-9897-377b18879003\" class=\"colab-df-container\">\n",
              "    <div>\n",
              "<style scoped>\n",
              "    .dataframe tbody tr th:only-of-type {\n",
              "        vertical-align: middle;\n",
              "    }\n",
              "\n",
              "    .dataframe tbody tr th {\n",
              "        vertical-align: top;\n",
              "    }\n",
              "\n",
              "    .dataframe thead th {\n",
              "        text-align: right;\n",
              "    }\n",
              "</style>\n",
              "<table border=\"1\" class=\"dataframe\">\n",
              "  <thead>\n",
              "    <tr style=\"text-align: right;\">\n",
              "      <th></th>\n",
              "      <th>url</th>\n",
              "      <th>id</th>\n",
              "      <th>name</th>\n",
              "      <th>author</th>\n",
              "      <th>star_rating</th>\n",
              "      <th>num_ratings</th>\n",
              "      <th>num_reviews</th>\n",
              "      <th>summary</th>\n",
              "      <th>genres</th>\n",
              "      <th>first_published</th>\n",
              "      <th>about_author</th>\n",
              "      <th>community_reviews</th>\n",
              "      <th>kindle_price</th>\n",
              "    </tr>\n",
              "  </thead>\n",
              "  <tbody>\n",
              "    <tr>\n",
              "      <th>0</th>\n",
              "      <td>https://www.goodreads.com/book/show/1047836.Ho...</td>\n",
              "      <td>1047836.Horror_Film_Directors_1931_1990</td>\n",
              "      <td>Horror Film Directors, 1931-1990</td>\n",
              "      <td>[\"Dennis Fischer\"]</td>\n",
              "      <td>4.29</td>\n",
              "      <td>7</td>\n",
              "      <td>\\N</td>\n",
              "      <td>An exhaustive study of the major directors of ...</td>\n",
              "      <td>\\N</td>\n",
              "      <td>11/1/1991</td>\n",
              "      <td>{\"name\":\"Dennis Fischer\",\"num_books\":14}</td>\n",
              "      <td>{\"1_stars\":{\"reviews_num\":0,\"reviews_percentag...</td>\n",
              "      <td>\\N</td>\n",
              "    </tr>\n",
              "    <tr>\n",
              "      <th>1</th>\n",
              "      <td>https://www.goodreads.com/book/show/4089333-au...</td>\n",
              "      <td>4089333-australian-urban-planning</td>\n",
              "      <td>Australian Urban Planning: New Challenges, New...</td>\n",
              "      <td>[\"Brendan Gleeson\"]</td>\n",
              "      <td>3.00</td>\n",
              "      <td>1</td>\n",
              "      <td>\\N</td>\n",
              "      <td>Designed for use by academics, students, plann...</td>\n",
              "      <td>\\N</td>\n",
              "      <td>2/1/2000</td>\n",
              "      <td>{\"name\":\"Brendan Gleeson\",\"num_books\":28}</td>\n",
              "      <td>{\"1_stars\":{\"reviews_num\":0,\"reviews_percentag...</td>\n",
              "      <td>\\N</td>\n",
              "    </tr>\n",
              "    <tr>\n",
              "      <th>2</th>\n",
              "      <td>https://www.goodreads.com/book/show/26764878-m...</td>\n",
              "      <td>26764878-morgen-ohne-gestern</td>\n",
              "      <td>Morgen ohne gestern: Roman</td>\n",
              "      <td>[\"Regina NÃ¶ssler\"]</td>\n",
              "      <td>3.00</td>\n",
              "      <td>2</td>\n",
              "      <td>\\N</td>\n",
              "      <td>Christine Hoffmann wacht eines Morgens im Kran...</td>\n",
              "      <td>\\N</td>\n",
              "      <td>9/18/2015</td>\n",
              "      <td>{\"name\":\"Regina NÃ¶ssler\",\"num_books\":28,\"num_...</td>\n",
              "      <td>{\"1_stars\":{\"reviews_num\":1,\"reviews_percentag...</td>\n",
              "      <td>\"$10.89\"</td>\n",
              "    </tr>\n",
              "    <tr>\n",
              "      <th>3</th>\n",
              "      <td>https://www.goodreads.com/book/show/23656944-z...</td>\n",
              "      <td>23656944-zen-and-the-art-of-recording</td>\n",
              "      <td>Zen and the Art of Recording</td>\n",
              "      <td>[\"Mixerman\"]</td>\n",
              "      <td>4.19</td>\n",
              "      <td>88</td>\n",
              "      <td>4</td>\n",
              "      <td>In this book, the third in the Zen and the Art...</td>\n",
              "      <td>[\"Music\",\"Nonfiction\"]</td>\n",
              "      <td>10/1/2014</td>\n",
              "      <td>{\"name\":\"Mixerman\",\"num_books\":15,\"num_followe...</td>\n",
              "      <td>{\"1_stars\":{\"reviews_num\":0,\"reviews_percentag...</td>\n",
              "      <td>\"$24.09\"</td>\n",
              "    </tr>\n",
              "    <tr>\n",
              "      <th>4</th>\n",
              "      <td>https://www.goodreads.com/book/show/26761586-t...</td>\n",
              "      <td>26761586-the-big-book-of-codewords</td>\n",
              "      <td>The Big Book Of Codewords</td>\n",
              "      <td>[\"Parragon Books\"]</td>\n",
              "      <td>4.50</td>\n",
              "      <td>6</td>\n",
              "      <td>\\N</td>\n",
              "      <td>500 codeword puzzles in one great book!</td>\n",
              "      <td>\\N</td>\n",
              "      <td>9/5/2015</td>\n",
              "      <td>{\"name\":\"Parragon Books\",\"num_books\":6068,\"num...</td>\n",
              "      <td>{\"1_stars\":{\"reviews_num\":0,\"reviews_percentag...</td>\n",
              "      <td>\\N</td>\n",
              "    </tr>\n",
              "  </tbody>\n",
              "</table>\n",
              "</div>\n",
              "    <div class=\"colab-df-buttons\">\n",
              "\n",
              "  <div class=\"colab-df-container\">\n",
              "    <button class=\"colab-df-convert\" onclick=\"convertToInteractive('df-e34e1fbc-6013-4ba7-9897-377b18879003')\"\n",
              "            title=\"Convert this dataframe to an interactive table.\"\n",
              "            style=\"display:none;\">\n",
              "\n",
              "  <svg xmlns=\"http://www.w3.org/2000/svg\" height=\"24px\" viewBox=\"0 -960 960 960\">\n",
              "    <path d=\"M120-120v-720h720v720H120Zm60-500h600v-160H180v160Zm220 220h160v-160H400v160Zm0 220h160v-160H400v160ZM180-400h160v-160H180v160Zm440 0h160v-160H620v160ZM180-180h160v-160H180v160Zm440 0h160v-160H620v160Z\"/>\n",
              "  </svg>\n",
              "    </button>\n",
              "\n",
              "  <style>\n",
              "    .colab-df-container {\n",
              "      display:flex;\n",
              "      gap: 12px;\n",
              "    }\n",
              "\n",
              "    .colab-df-convert {\n",
              "      background-color: #E8F0FE;\n",
              "      border: none;\n",
              "      border-radius: 50%;\n",
              "      cursor: pointer;\n",
              "      display: none;\n",
              "      fill: #1967D2;\n",
              "      height: 32px;\n",
              "      padding: 0 0 0 0;\n",
              "      width: 32px;\n",
              "    }\n",
              "\n",
              "    .colab-df-convert:hover {\n",
              "      background-color: #E2EBFA;\n",
              "      box-shadow: 0px 1px 2px rgba(60, 64, 67, 0.3), 0px 1px 3px 1px rgba(60, 64, 67, 0.15);\n",
              "      fill: #174EA6;\n",
              "    }\n",
              "\n",
              "    .colab-df-buttons div {\n",
              "      margin-bottom: 4px;\n",
              "    }\n",
              "\n",
              "    [theme=dark] .colab-df-convert {\n",
              "      background-color: #3B4455;\n",
              "      fill: #D2E3FC;\n",
              "    }\n",
              "\n",
              "    [theme=dark] .colab-df-convert:hover {\n",
              "      background-color: #434B5C;\n",
              "      box-shadow: 0px 1px 3px 1px rgba(0, 0, 0, 0.15);\n",
              "      filter: drop-shadow(0px 1px 2px rgba(0, 0, 0, 0.3));\n",
              "      fill: #FFFFFF;\n",
              "    }\n",
              "  </style>\n",
              "\n",
              "    <script>\n",
              "      const buttonEl =\n",
              "        document.querySelector('#df-e34e1fbc-6013-4ba7-9897-377b18879003 button.colab-df-convert');\n",
              "      buttonEl.style.display =\n",
              "        google.colab.kernel.accessAllowed ? 'block' : 'none';\n",
              "\n",
              "      async function convertToInteractive(key) {\n",
              "        const element = document.querySelector('#df-e34e1fbc-6013-4ba7-9897-377b18879003');\n",
              "        const dataTable =\n",
              "          await google.colab.kernel.invokeFunction('convertToInteractive',\n",
              "                                                    [key], {});\n",
              "        if (!dataTable) return;\n",
              "\n",
              "        const docLinkHtml = 'Like what you see? Visit the ' +\n",
              "          '<a target=\"_blank\" href=https://colab.research.google.com/notebooks/data_table.ipynb>data table notebook</a>'\n",
              "          + ' to learn more about interactive tables.';\n",
              "        element.innerHTML = '';\n",
              "        dataTable['output_type'] = 'display_data';\n",
              "        await google.colab.output.renderOutput(dataTable, element);\n",
              "        const docLink = document.createElement('div');\n",
              "        docLink.innerHTML = docLinkHtml;\n",
              "        element.appendChild(docLink);\n",
              "      }\n",
              "    </script>\n",
              "  </div>\n",
              "\n",
              "\n",
              "<div id=\"df-7b1e80b6-3db5-4384-95aa-2b6637d812f0\">\n",
              "  <button class=\"colab-df-quickchart\" onclick=\"quickchart('df-7b1e80b6-3db5-4384-95aa-2b6637d812f0')\"\n",
              "            title=\"Suggest charts\"\n",
              "            style=\"display:none;\">\n",
              "\n",
              "<svg xmlns=\"http://www.w3.org/2000/svg\" height=\"24px\"viewBox=\"0 0 24 24\"\n",
              "     width=\"24px\">\n",
              "    <g>\n",
              "        <path d=\"M19 3H5c-1.1 0-2 .9-2 2v14c0 1.1.9 2 2 2h14c1.1 0 2-.9 2-2V5c0-1.1-.9-2-2-2zM9 17H7v-7h2v7zm4 0h-2V7h2v10zm4 0h-2v-4h2v4z\"/>\n",
              "    </g>\n",
              "</svg>\n",
              "  </button>\n",
              "\n",
              "<style>\n",
              "  .colab-df-quickchart {\n",
              "      --bg-color: #E8F0FE;\n",
              "      --fill-color: #1967D2;\n",
              "      --hover-bg-color: #E2EBFA;\n",
              "      --hover-fill-color: #174EA6;\n",
              "      --disabled-fill-color: #AAA;\n",
              "      --disabled-bg-color: #DDD;\n",
              "  }\n",
              "\n",
              "  [theme=dark] .colab-df-quickchart {\n",
              "      --bg-color: #3B4455;\n",
              "      --fill-color: #D2E3FC;\n",
              "      --hover-bg-color: #434B5C;\n",
              "      --hover-fill-color: #FFFFFF;\n",
              "      --disabled-bg-color: #3B4455;\n",
              "      --disabled-fill-color: #666;\n",
              "  }\n",
              "\n",
              "  .colab-df-quickchart {\n",
              "    background-color: var(--bg-color);\n",
              "    border: none;\n",
              "    border-radius: 50%;\n",
              "    cursor: pointer;\n",
              "    display: none;\n",
              "    fill: var(--fill-color);\n",
              "    height: 32px;\n",
              "    padding: 0;\n",
              "    width: 32px;\n",
              "  }\n",
              "\n",
              "  .colab-df-quickchart:hover {\n",
              "    background-color: var(--hover-bg-color);\n",
              "    box-shadow: 0 1px 2px rgba(60, 64, 67, 0.3), 0 1px 3px 1px rgba(60, 64, 67, 0.15);\n",
              "    fill: var(--button-hover-fill-color);\n",
              "  }\n",
              "\n",
              "  .colab-df-quickchart-complete:disabled,\n",
              "  .colab-df-quickchart-complete:disabled:hover {\n",
              "    background-color: var(--disabled-bg-color);\n",
              "    fill: var(--disabled-fill-color);\n",
              "    box-shadow: none;\n",
              "  }\n",
              "\n",
              "  .colab-df-spinner {\n",
              "    border: 2px solid var(--fill-color);\n",
              "    border-color: transparent;\n",
              "    border-bottom-color: var(--fill-color);\n",
              "    animation:\n",
              "      spin 1s steps(1) infinite;\n",
              "  }\n",
              "\n",
              "  @keyframes spin {\n",
              "    0% {\n",
              "      border-color: transparent;\n",
              "      border-bottom-color: var(--fill-color);\n",
              "      border-left-color: var(--fill-color);\n",
              "    }\n",
              "    20% {\n",
              "      border-color: transparent;\n",
              "      border-left-color: var(--fill-color);\n",
              "      border-top-color: var(--fill-color);\n",
              "    }\n",
              "    30% {\n",
              "      border-color: transparent;\n",
              "      border-left-color: var(--fill-color);\n",
              "      border-top-color: var(--fill-color);\n",
              "      border-right-color: var(--fill-color);\n",
              "    }\n",
              "    40% {\n",
              "      border-color: transparent;\n",
              "      border-right-color: var(--fill-color);\n",
              "      border-top-color: var(--fill-color);\n",
              "    }\n",
              "    60% {\n",
              "      border-color: transparent;\n",
              "      border-right-color: var(--fill-color);\n",
              "    }\n",
              "    80% {\n",
              "      border-color: transparent;\n",
              "      border-right-color: var(--fill-color);\n",
              "      border-bottom-color: var(--fill-color);\n",
              "    }\n",
              "    90% {\n",
              "      border-color: transparent;\n",
              "      border-bottom-color: var(--fill-color);\n",
              "    }\n",
              "  }\n",
              "</style>\n",
              "\n",
              "  <script>\n",
              "    async function quickchart(key) {\n",
              "      const quickchartButtonEl =\n",
              "        document.querySelector('#' + key + ' button');\n",
              "      quickchartButtonEl.disabled = true;  // To prevent multiple clicks.\n",
              "      quickchartButtonEl.classList.add('colab-df-spinner');\n",
              "      try {\n",
              "        const charts = await google.colab.kernel.invokeFunction(\n",
              "            'suggestCharts', [key], {});\n",
              "      } catch (error) {\n",
              "        console.error('Error during call to suggestCharts:', error);\n",
              "      }\n",
              "      quickchartButtonEl.classList.remove('colab-df-spinner');\n",
              "      quickchartButtonEl.classList.add('colab-df-quickchart-complete');\n",
              "    }\n",
              "    (() => {\n",
              "      let quickchartButtonEl =\n",
              "        document.querySelector('#df-7b1e80b6-3db5-4384-95aa-2b6637d812f0 button');\n",
              "      quickchartButtonEl.style.display =\n",
              "        google.colab.kernel.accessAllowed ? 'block' : 'none';\n",
              "    })();\n",
              "  </script>\n",
              "</div>\n",
              "\n",
              "    </div>\n",
              "  </div>\n"
            ],
            "application/vnd.google.colaboratory.intrinsic+json": {
              "type": "dataframe",
              "variable_name": "df"
            }
          },
          "metadata": {},
          "execution_count": 4
        }
      ]
    },
    {
      "cell_type": "code",
      "source": [
        "# Safe literal evaluation for 'genres', 'author', and 'summary'\n",
        "def safe_literal_eval(x):\n",
        "    try:\n",
        "        if isinstance(x, str) and x != '\\\\N' and x.strip():\n",
        "            return ast.literal_eval(x)\n",
        "        else:\n",
        "            return []\n",
        "    except (ValueError, SyntaxError):\n",
        "        return []"
      ],
      "metadata": {
        "id": "FuivSeAnqkMG"
      },
      "execution_count": 5,
      "outputs": []
    },
    {
      "cell_type": "code",
      "source": [
        "# Clean 'genres', 'author', 'name', and 'summary' to remove any invalid entries (such as '\\N' or empty strings)\n",
        "df['genres'] = df['genres'].apply(lambda x: safe_literal_eval(x) if isinstance(x, str) else [])\n",
        "df['author'] = df['author'].apply(lambda x: safe_literal_eval(x) if isinstance(x, str) else [])\n",
        "df['name'] = df['name'].apply(lambda x: x if isinstance(x, str) and x.strip() != '\\\\N' else np.nan)\n",
        "df['summary'] = df['summary'].apply(lambda x: x if isinstance(x, str) and x.strip() != '\\\\N' else np.nan)"
      ],
      "metadata": {
        "id": "1eoSEyidqkPR"
      },
      "execution_count": 6,
      "outputs": []
    },
    {
      "cell_type": "code",
      "source": [
        "# Drop rows where 'name' or 'summary' is NaN after cleaning\n",
        "df.dropna(subset=['name', 'summary'], inplace=True)"
      ],
      "metadata": {
        "id": "yXpzb1odqkSH"
      },
      "execution_count": 7,
      "outputs": []
    },
    {
      "cell_type": "code",
      "source": [
        "# Clean 'star_rating' to ensure it's a valid numeric value\n",
        "df['star_rating'] = pd.to_numeric(df['star_rating'], errors='coerce')\n",
        "df.dropna(subset=['star_rating'], inplace=True)  # Drop rows where 'star_rating' is NaN after conversion"
      ],
      "metadata": {
        "id": "hEy6bVaWqkVP"
      },
      "execution_count": 8,
      "outputs": []
    },
    {
      "cell_type": "code",
      "source": [
        "# Clean 'first_published' to ensure it's a valid date and extract the year\n",
        "df['first_published'] = pd.to_datetime(df['first_published'], errors='coerce')\n",
        "df.dropna(subset=['first_published'], inplace=True)  # Drop rows with invalid 'first_published'\n",
        "df['first_published_year'] = df['first_published'].dt.year"
      ],
      "metadata": {
        "id": "uUWcBSi9qkYP"
      },
      "execution_count": 9,
      "outputs": []
    },
    {
      "cell_type": "code",
      "source": [
        "# Convert 'genres' list to a comma-separated string\n",
        "df['genres'] = df['genres'].apply(lambda x: ', '.join(x) if isinstance(x, list) else '')"
      ],
      "metadata": {
        "id": "nIdDIU01qkbg"
      },
      "execution_count": 10,
      "outputs": []
    },
    {
      "cell_type": "code",
      "source": [
        "# Remove rows where 'genres' is empty, NaN, or contains the value '\\N'\n",
        "df = df[df['genres'].notna() & (df['genres'] != '') & (df['genres'] != '\\\\N')]"
      ],
      "metadata": {
        "id": "futTy3yXw6ml"
      },
      "execution_count": 11,
      "outputs": []
    },
    {
      "cell_type": "code",
      "source": [
        "from google.colab import drive\n",
        "drive.mount('/content/drive')"
      ],
      "metadata": {
        "colab": {
          "base_uri": "https://localhost:8080/"
        },
        "id": "nTSn8FoHBWsK",
        "outputId": "199aa75a-fa33-4852-c00a-cae1e9eb37ed"
      },
      "execution_count": 13,
      "outputs": [
        {
          "output_type": "stream",
          "name": "stdout",
          "text": [
            "Mounted at /content/drive\n"
          ]
        }
      ]
    },
    {
      "cell_type": "code",
      "source": [
        "# Save the cleaned dataset to a new CSV file\n",
        "df.to_csv(output_file_path, index=False)"
      ],
      "metadata": {
        "id": "-IJI307nw6pm"
      },
      "execution_count": 16,
      "outputs": []
    },
    {
      "cell_type": "code",
      "source": [
        "# Show the first 10 rows of the cleaned DataFrame\n",
        "print(\"First 10 rows of the cleaned dataset:\")\n",
        "print(df.head(10))"
      ],
      "metadata": {
        "colab": {
          "base_uri": "https://localhost:8080/"
        },
        "id": "YNePBVJww6sm",
        "outputId": "3b061fe4-141d-4ae2-8b96-4e12a2c3233a"
      },
      "execution_count": 17,
      "outputs": [
        {
          "output_type": "stream",
          "name": "stdout",
          "text": [
            "First 10 rows of the cleaned dataset:\n",
            "                                                  url  \\\n",
            "3   https://www.goodreads.com/book/show/23656944-z...   \n",
            "8   https://www.goodreads.com/book/show/4103828-om...   \n",
            "9   https://www.goodreads.com/book/show/317587.Qui...   \n",
            "14  https://www.goodreads.com/book/show/318028.Il_...   \n",
            "18  https://www.goodreads.com/book/show/6590893-ve...   \n",
            "19  https://www.goodreads.com/book/show/313435.Sam...   \n",
            "25  https://www.goodreads.com/book/show/310054.Fin...   \n",
            "29  https://www.goodreads.com/book/show/485618.Chi...   \n",
            "31  https://www.goodreads.com/book/show/13633706-g...   \n",
            "32  https://www.goodreads.com/book/show/8659397-bu...   \n",
            "\n",
            "                                       id  \\\n",
            "3   23656944-zen-and-the-art-of-recording   \n",
            "8               4103828-oman-under-qaboos   \n",
            "9   317587.Quilts_From_Lavender_Hill_Farm   \n",
            "14                      318028.Il_Gigante   \n",
            "18           6590893-verzamelde-gedichten   \n",
            "19        313435.Sam_Saboura_s_Real_Style   \n",
            "25                  310054.Final_Analysis   \n",
            "29   485618.Chicken_Soup_for_Little_Souls   \n",
            "31                        13633706-gulzig   \n",
            "32                  8659397-built-to-love   \n",
            "\n",
            "                                                 name               author  \\\n",
            "3                        Zen and the Art of Recording           [Mixerman]   \n",
            "8                                   Oman Under Qaboos    [Calvin H. Allen]   \n",
            "9   Quilts From Lavender Hill Farm: 12 Projects In...  [Darlene Zimmerman]   \n",
            "14  Il Gigante: Michelangelo, Florence, and the Da...         [Anton Gill]   \n",
            "18                               Verzamelde Gedichten      [Jotie T'Hooft]   \n",
            "19  Sam Saboura's Real Style: Style Secrets for Re...        [Sam Saboura]   \n",
            "25  Final Analysis: The Untold Story of the Susan ...    [Catherine Crier]   \n",
            "29  Chicken Soup for Little Souls: Della Splatnuk,...       [Lisa McCourt]   \n",
            "31                                             Gulzig        [Marion Pauw]   \n",
            "32  Built to Love: Creating Products That Captivat...   [Peter Boatwright]   \n",
            "\n",
            "    star_rating  num_ratings num_reviews  \\\n",
            "3          4.19           88           4   \n",
            "8          3.56            9          \\N   \n",
            "9          3.20            5          \\N   \n",
            "14         3.46           85          12   \n",
            "18         4.48           21          \\N   \n",
            "19         3.21           47          10   \n",
            "25         3.38          475          51   \n",
            "29         4.76           21           2   \n",
            "31         2.88           60           6   \n",
            "32         3.41           34           1   \n",
            "\n",
            "                                              summary  \\\n",
            "3   In this book, the third in the Zen and the Art...   \n",
            "8   This is an examination of the political, econo...   \n",
            "9   Bring a Touch of the Country Into Your Home In...   \n",
            "14  At the turn of the 16th century, Italy was a t...   \n",
            "18                                              Dutch   \n",
            "19  Sam Saboura knows a thing or two about style. ...   \n",
            "25  In October 2002, Susan Polk, a housewife and m...   \n",
            "29  The last thing Carrie wants to do is go to Del...   \n",
            "31  Gulzig bevat alle recente spannende verhalen d...   \n",
            "32  Leading companies do more than produce things ...   \n",
            "\n",
            "                                               genres first_published  \\\n",
            "3                                   Music, Nonfiction      2014-10-01   \n",
            "8                                             History      2000-03-30   \n",
            "9                                            Quilting      2007-04-30   \n",
            "14  Art, History, Art History, Italy, Biography, N...      2002-01-28   \n",
            "18                                             Poetry      1981-01-01   \n",
            "19                                Nonfiction, Fashion      2005-06-14   \n",
            "25  True Crime, Nonfiction, Crime, Mystery, Histor...      2007-01-01   \n",
            "29                                      Picture Books      1999-03-01   \n",
            "31                                           Thriller      2012-05-01   \n",
            "32                                           Business      2010-01-01   \n",
            "\n",
            "                                         about_author  \\\n",
            "3   {\"name\":\"Mixerman\",\"num_books\":15,\"num_followe...   \n",
            "8            {\"name\":\"Calvin H. Allen\",\"num_books\":4}   \n",
            "9   {\"name\":\"Darlene Zimmerman\",\"num_books\":23,\"nu...   \n",
            "14  {\"name\":\"Anton Gill\",\"num_books\":57,\"num_follo...   \n",
            "18  {\"name\":\"Jotie T'Hooft\",\"num_books\":16,\"num_fo...   \n",
            "19  {\"name\":\"Sam Saboura\",\"num_books\":1,\"num_follo...   \n",
            "25  {\"name\":\"Catherine Crier\",\"num_books\":10,\"num_...   \n",
            "29  {\"name\":\"Lisa McCourt\",\"num_books\":75,\"num_fol...   \n",
            "31  {\"name\":\"Marion Pauw\",\"num_books\":43,\"num_foll...   \n",
            "32          {\"name\":\"Peter Boatwright\",\"num_books\":7}   \n",
            "\n",
            "                                    community_reviews kindle_price  \\\n",
            "3   {\"1_stars\":{\"reviews_num\":0,\"reviews_percentag...     \"$24.09\"   \n",
            "8   {\"1_stars\":{\"reviews_num\":0,\"reviews_percentag...     \"$78.84\"   \n",
            "9   {\"1_stars\":{\"reviews_num\":0,\"reviews_percentag...     \"$22.99\"   \n",
            "14  {\"1_stars\":{\"reviews_num\":2,\"reviews_percentag...     \"$11.99\"   \n",
            "18  {\"1_stars\":{\"reviews_num\":0,\"reviews_percentag...           \\N   \n",
            "19  {\"1_stars\":{\"reviews_num\":0,\"reviews_percentag...           \\N   \n",
            "25  {\"1_stars\":{\"reviews_num\":31,\"reviews_percenta...      \"$4.99\"   \n",
            "29  {\"1_stars\":{\"reviews_num\":0,\"reviews_percentag...           \\N   \n",
            "31  {\"1_stars\":{\"reviews_num\":2,\"reviews_percentag...           \\N   \n",
            "32  {\"1_stars\":{\"reviews_num\":1,\"reviews_percentag...     \"$27.95\"   \n",
            "\n",
            "    first_published_year  \n",
            "3                   2014  \n",
            "8                   2000  \n",
            "9                   2007  \n",
            "14                  2002  \n",
            "18                  1981  \n",
            "19                  2005  \n",
            "25                  2007  \n",
            "29                  1999  \n",
            "31                  2012  \n",
            "32                  2010  \n"
          ]
        }
      ]
    },
    {
      "cell_type": "code",
      "source": [
        "# Show the number of entries left after the cleaning process\n",
        "num_entries_left = len(df)\n",
        "print(f\"Number of entries left after cleaning: {num_entries_left}\")"
      ],
      "metadata": {
        "colab": {
          "base_uri": "https://localhost:8080/"
        },
        "id": "RcZNUxuTw6vp",
        "outputId": "f466fac4-ed21-40b4-d5d3-97e0c8016ed0"
      },
      "execution_count": 18,
      "outputs": [
        {
          "output_type": "stream",
          "name": "stdout",
          "text": [
            "Number of entries left after cleaning: 101593\n"
          ]
        }
      ]
    },
    {
      "cell_type": "code",
      "source": [
        "print(f\"Cleaned dataset saved to {output_file_path}\")"
      ],
      "metadata": {
        "colab": {
          "base_uri": "https://localhost:8080/"
        },
        "id": "mqnOzO2yw6yX",
        "outputId": "1c826a46-585a-41c6-c41f-2f5a1d60ddc5"
      },
      "execution_count": 19,
      "outputs": [
        {
          "output_type": "stream",
          "name": "stdout",
          "text": [
            "Cleaned dataset saved to /content/drive/MyDrive/cle.csv\n"
          ]
        }
      ]
    },
    {
      "cell_type": "code",
      "source": [
        "# importing the cleaned dataset as df\n",
        "df = pd.read_csv('/content/cle.csv')"
      ],
      "metadata": {
        "id": "CfrRi3DIzX3-"
      },
      "execution_count": 20,
      "outputs": []
    },
    {
      "cell_type": "code",
      "source": [
        "df.head()"
      ],
      "metadata": {
        "colab": {
          "base_uri": "https://localhost:8080/",
          "height": 538
        },
        "id": "i19yICzMCBjP",
        "outputId": "52be48f1-0d8d-442e-e0cd-bcad662b2ec5"
      },
      "execution_count": 21,
      "outputs": [
        {
          "output_type": "execute_result",
          "data": {
            "text/plain": [
              "                                                 url  \\\n",
              "0  https://www.goodreads.com/book/show/23656944-z...   \n",
              "1  https://www.goodreads.com/book/show/4103828-om...   \n",
              "2  https://www.goodreads.com/book/show/317587.Qui...   \n",
              "3  https://www.goodreads.com/book/show/318028.Il_...   \n",
              "4  https://www.goodreads.com/book/show/6590893-ve...   \n",
              "\n",
              "                                      id  \\\n",
              "0  23656944-zen-and-the-art-of-recording   \n",
              "1              4103828-oman-under-qaboos   \n",
              "2  317587.Quilts_From_Lavender_Hill_Farm   \n",
              "3                      318028.Il_Gigante   \n",
              "4           6590893-verzamelde-gedichten   \n",
              "\n",
              "                                                name                 author  \\\n",
              "0                       Zen and the Art of Recording           ['Mixerman']   \n",
              "1                                  Oman Under Qaboos    ['Calvin H. Allen']   \n",
              "2  Quilts From Lavender Hill Farm: 12 Projects In...  ['Darlene Zimmerman']   \n",
              "3  Il Gigante: Michelangelo, Florence, and the Da...         ['Anton Gill']   \n",
              "4                               Verzamelde Gedichten      [\"Jotie T'Hooft\"]   \n",
              "\n",
              "   star_rating  num_ratings num_reviews  \\\n",
              "0         4.19           88           4   \n",
              "1         3.56            9          \\N   \n",
              "2         3.20            5          \\N   \n",
              "3         3.46           85          12   \n",
              "4         4.48           21          \\N   \n",
              "\n",
              "                                             summary  \\\n",
              "0  In this book, the third in the Zen and the Art...   \n",
              "1  This is an examination of the political, econo...   \n",
              "2  Bring a Touch of the Country Into Your Home In...   \n",
              "3  At the turn of the 16th century, Italy was a t...   \n",
              "4                                              Dutch   \n",
              "\n",
              "                                              genres first_published  \\\n",
              "0                                  Music, Nonfiction      2014-10-01   \n",
              "1                                            History      2000-03-30   \n",
              "2                                           Quilting      2007-04-30   \n",
              "3  Art, History, Art History, Italy, Biography, N...      2002-01-28   \n",
              "4                                             Poetry      1981-01-01   \n",
              "\n",
              "                                        about_author  \\\n",
              "0  {\"name\":\"Mixerman\",\"num_books\":15,\"num_followe...   \n",
              "1           {\"name\":\"Calvin H. Allen\",\"num_books\":4}   \n",
              "2  {\"name\":\"Darlene Zimmerman\",\"num_books\":23,\"nu...   \n",
              "3  {\"name\":\"Anton Gill\",\"num_books\":57,\"num_follo...   \n",
              "4  {\"name\":\"Jotie T'Hooft\",\"num_books\":16,\"num_fo...   \n",
              "\n",
              "                                   community_reviews kindle_price  \\\n",
              "0  {\"1_stars\":{\"reviews_num\":0,\"reviews_percentag...     \"$24.09\"   \n",
              "1  {\"1_stars\":{\"reviews_num\":0,\"reviews_percentag...     \"$78.84\"   \n",
              "2  {\"1_stars\":{\"reviews_num\":0,\"reviews_percentag...     \"$22.99\"   \n",
              "3  {\"1_stars\":{\"reviews_num\":2,\"reviews_percentag...     \"$11.99\"   \n",
              "4  {\"1_stars\":{\"reviews_num\":0,\"reviews_percentag...           \\N   \n",
              "\n",
              "   first_published_year  \n",
              "0                  2014  \n",
              "1                  2000  \n",
              "2                  2007  \n",
              "3                  2002  \n",
              "4                  1981  "
            ],
            "text/html": [
              "\n",
              "  <div id=\"df-401e8da3-581c-49f9-bc7d-ff46dda3cac2\" class=\"colab-df-container\">\n",
              "    <div>\n",
              "<style scoped>\n",
              "    .dataframe tbody tr th:only-of-type {\n",
              "        vertical-align: middle;\n",
              "    }\n",
              "\n",
              "    .dataframe tbody tr th {\n",
              "        vertical-align: top;\n",
              "    }\n",
              "\n",
              "    .dataframe thead th {\n",
              "        text-align: right;\n",
              "    }\n",
              "</style>\n",
              "<table border=\"1\" class=\"dataframe\">\n",
              "  <thead>\n",
              "    <tr style=\"text-align: right;\">\n",
              "      <th></th>\n",
              "      <th>url</th>\n",
              "      <th>id</th>\n",
              "      <th>name</th>\n",
              "      <th>author</th>\n",
              "      <th>star_rating</th>\n",
              "      <th>num_ratings</th>\n",
              "      <th>num_reviews</th>\n",
              "      <th>summary</th>\n",
              "      <th>genres</th>\n",
              "      <th>first_published</th>\n",
              "      <th>about_author</th>\n",
              "      <th>community_reviews</th>\n",
              "      <th>kindle_price</th>\n",
              "      <th>first_published_year</th>\n",
              "    </tr>\n",
              "  </thead>\n",
              "  <tbody>\n",
              "    <tr>\n",
              "      <th>0</th>\n",
              "      <td>https://www.goodreads.com/book/show/23656944-z...</td>\n",
              "      <td>23656944-zen-and-the-art-of-recording</td>\n",
              "      <td>Zen and the Art of Recording</td>\n",
              "      <td>['Mixerman']</td>\n",
              "      <td>4.19</td>\n",
              "      <td>88</td>\n",
              "      <td>4</td>\n",
              "      <td>In this book, the third in the Zen and the Art...</td>\n",
              "      <td>Music, Nonfiction</td>\n",
              "      <td>2014-10-01</td>\n",
              "      <td>{\"name\":\"Mixerman\",\"num_books\":15,\"num_followe...</td>\n",
              "      <td>{\"1_stars\":{\"reviews_num\":0,\"reviews_percentag...</td>\n",
              "      <td>\"$24.09\"</td>\n",
              "      <td>2014</td>\n",
              "    </tr>\n",
              "    <tr>\n",
              "      <th>1</th>\n",
              "      <td>https://www.goodreads.com/book/show/4103828-om...</td>\n",
              "      <td>4103828-oman-under-qaboos</td>\n",
              "      <td>Oman Under Qaboos</td>\n",
              "      <td>['Calvin H. Allen']</td>\n",
              "      <td>3.56</td>\n",
              "      <td>9</td>\n",
              "      <td>\\N</td>\n",
              "      <td>This is an examination of the political, econo...</td>\n",
              "      <td>History</td>\n",
              "      <td>2000-03-30</td>\n",
              "      <td>{\"name\":\"Calvin H. Allen\",\"num_books\":4}</td>\n",
              "      <td>{\"1_stars\":{\"reviews_num\":0,\"reviews_percentag...</td>\n",
              "      <td>\"$78.84\"</td>\n",
              "      <td>2000</td>\n",
              "    </tr>\n",
              "    <tr>\n",
              "      <th>2</th>\n",
              "      <td>https://www.goodreads.com/book/show/317587.Qui...</td>\n",
              "      <td>317587.Quilts_From_Lavender_Hill_Farm</td>\n",
              "      <td>Quilts From Lavender Hill Farm: 12 Projects In...</td>\n",
              "      <td>['Darlene Zimmerman']</td>\n",
              "      <td>3.20</td>\n",
              "      <td>5</td>\n",
              "      <td>\\N</td>\n",
              "      <td>Bring a Touch of the Country Into Your Home In...</td>\n",
              "      <td>Quilting</td>\n",
              "      <td>2007-04-30</td>\n",
              "      <td>{\"name\":\"Darlene Zimmerman\",\"num_books\":23,\"nu...</td>\n",
              "      <td>{\"1_stars\":{\"reviews_num\":0,\"reviews_percentag...</td>\n",
              "      <td>\"$22.99\"</td>\n",
              "      <td>2007</td>\n",
              "    </tr>\n",
              "    <tr>\n",
              "      <th>3</th>\n",
              "      <td>https://www.goodreads.com/book/show/318028.Il_...</td>\n",
              "      <td>318028.Il_Gigante</td>\n",
              "      <td>Il Gigante: Michelangelo, Florence, and the Da...</td>\n",
              "      <td>['Anton Gill']</td>\n",
              "      <td>3.46</td>\n",
              "      <td>85</td>\n",
              "      <td>12</td>\n",
              "      <td>At the turn of the 16th century, Italy was a t...</td>\n",
              "      <td>Art, History, Art History, Italy, Biography, N...</td>\n",
              "      <td>2002-01-28</td>\n",
              "      <td>{\"name\":\"Anton Gill\",\"num_books\":57,\"num_follo...</td>\n",
              "      <td>{\"1_stars\":{\"reviews_num\":2,\"reviews_percentag...</td>\n",
              "      <td>\"$11.99\"</td>\n",
              "      <td>2002</td>\n",
              "    </tr>\n",
              "    <tr>\n",
              "      <th>4</th>\n",
              "      <td>https://www.goodreads.com/book/show/6590893-ve...</td>\n",
              "      <td>6590893-verzamelde-gedichten</td>\n",
              "      <td>Verzamelde Gedichten</td>\n",
              "      <td>[\"Jotie T'Hooft\"]</td>\n",
              "      <td>4.48</td>\n",
              "      <td>21</td>\n",
              "      <td>\\N</td>\n",
              "      <td>Dutch</td>\n",
              "      <td>Poetry</td>\n",
              "      <td>1981-01-01</td>\n",
              "      <td>{\"name\":\"Jotie T'Hooft\",\"num_books\":16,\"num_fo...</td>\n",
              "      <td>{\"1_stars\":{\"reviews_num\":0,\"reviews_percentag...</td>\n",
              "      <td>\\N</td>\n",
              "      <td>1981</td>\n",
              "    </tr>\n",
              "  </tbody>\n",
              "</table>\n",
              "</div>\n",
              "    <div class=\"colab-df-buttons\">\n",
              "\n",
              "  <div class=\"colab-df-container\">\n",
              "    <button class=\"colab-df-convert\" onclick=\"convertToInteractive('df-401e8da3-581c-49f9-bc7d-ff46dda3cac2')\"\n",
              "            title=\"Convert this dataframe to an interactive table.\"\n",
              "            style=\"display:none;\">\n",
              "\n",
              "  <svg xmlns=\"http://www.w3.org/2000/svg\" height=\"24px\" viewBox=\"0 -960 960 960\">\n",
              "    <path d=\"M120-120v-720h720v720H120Zm60-500h600v-160H180v160Zm220 220h160v-160H400v160Zm0 220h160v-160H400v160ZM180-400h160v-160H180v160Zm440 0h160v-160H620v160ZM180-180h160v-160H180v160Zm440 0h160v-160H620v160Z\"/>\n",
              "  </svg>\n",
              "    </button>\n",
              "\n",
              "  <style>\n",
              "    .colab-df-container {\n",
              "      display:flex;\n",
              "      gap: 12px;\n",
              "    }\n",
              "\n",
              "    .colab-df-convert {\n",
              "      background-color: #E8F0FE;\n",
              "      border: none;\n",
              "      border-radius: 50%;\n",
              "      cursor: pointer;\n",
              "      display: none;\n",
              "      fill: #1967D2;\n",
              "      height: 32px;\n",
              "      padding: 0 0 0 0;\n",
              "      width: 32px;\n",
              "    }\n",
              "\n",
              "    .colab-df-convert:hover {\n",
              "      background-color: #E2EBFA;\n",
              "      box-shadow: 0px 1px 2px rgba(60, 64, 67, 0.3), 0px 1px 3px 1px rgba(60, 64, 67, 0.15);\n",
              "      fill: #174EA6;\n",
              "    }\n",
              "\n",
              "    .colab-df-buttons div {\n",
              "      margin-bottom: 4px;\n",
              "    }\n",
              "\n",
              "    [theme=dark] .colab-df-convert {\n",
              "      background-color: #3B4455;\n",
              "      fill: #D2E3FC;\n",
              "    }\n",
              "\n",
              "    [theme=dark] .colab-df-convert:hover {\n",
              "      background-color: #434B5C;\n",
              "      box-shadow: 0px 1px 3px 1px rgba(0, 0, 0, 0.15);\n",
              "      filter: drop-shadow(0px 1px 2px rgba(0, 0, 0, 0.3));\n",
              "      fill: #FFFFFF;\n",
              "    }\n",
              "  </style>\n",
              "\n",
              "    <script>\n",
              "      const buttonEl =\n",
              "        document.querySelector('#df-401e8da3-581c-49f9-bc7d-ff46dda3cac2 button.colab-df-convert');\n",
              "      buttonEl.style.display =\n",
              "        google.colab.kernel.accessAllowed ? 'block' : 'none';\n",
              "\n",
              "      async function convertToInteractive(key) {\n",
              "        const element = document.querySelector('#df-401e8da3-581c-49f9-bc7d-ff46dda3cac2');\n",
              "        const dataTable =\n",
              "          await google.colab.kernel.invokeFunction('convertToInteractive',\n",
              "                                                    [key], {});\n",
              "        if (!dataTable) return;\n",
              "\n",
              "        const docLinkHtml = 'Like what you see? Visit the ' +\n",
              "          '<a target=\"_blank\" href=https://colab.research.google.com/notebooks/data_table.ipynb>data table notebook</a>'\n",
              "          + ' to learn more about interactive tables.';\n",
              "        element.innerHTML = '';\n",
              "        dataTable['output_type'] = 'display_data';\n",
              "        await google.colab.output.renderOutput(dataTable, element);\n",
              "        const docLink = document.createElement('div');\n",
              "        docLink.innerHTML = docLinkHtml;\n",
              "        element.appendChild(docLink);\n",
              "      }\n",
              "    </script>\n",
              "  </div>\n",
              "\n",
              "\n",
              "<div id=\"df-e60369de-b980-4af8-90b9-6a64533691e5\">\n",
              "  <button class=\"colab-df-quickchart\" onclick=\"quickchart('df-e60369de-b980-4af8-90b9-6a64533691e5')\"\n",
              "            title=\"Suggest charts\"\n",
              "            style=\"display:none;\">\n",
              "\n",
              "<svg xmlns=\"http://www.w3.org/2000/svg\" height=\"24px\"viewBox=\"0 0 24 24\"\n",
              "     width=\"24px\">\n",
              "    <g>\n",
              "        <path d=\"M19 3H5c-1.1 0-2 .9-2 2v14c0 1.1.9 2 2 2h14c1.1 0 2-.9 2-2V5c0-1.1-.9-2-2-2zM9 17H7v-7h2v7zm4 0h-2V7h2v10zm4 0h-2v-4h2v4z\"/>\n",
              "    </g>\n",
              "</svg>\n",
              "  </button>\n",
              "\n",
              "<style>\n",
              "  .colab-df-quickchart {\n",
              "      --bg-color: #E8F0FE;\n",
              "      --fill-color: #1967D2;\n",
              "      --hover-bg-color: #E2EBFA;\n",
              "      --hover-fill-color: #174EA6;\n",
              "      --disabled-fill-color: #AAA;\n",
              "      --disabled-bg-color: #DDD;\n",
              "  }\n",
              "\n",
              "  [theme=dark] .colab-df-quickchart {\n",
              "      --bg-color: #3B4455;\n",
              "      --fill-color: #D2E3FC;\n",
              "      --hover-bg-color: #434B5C;\n",
              "      --hover-fill-color: #FFFFFF;\n",
              "      --disabled-bg-color: #3B4455;\n",
              "      --disabled-fill-color: #666;\n",
              "  }\n",
              "\n",
              "  .colab-df-quickchart {\n",
              "    background-color: var(--bg-color);\n",
              "    border: none;\n",
              "    border-radius: 50%;\n",
              "    cursor: pointer;\n",
              "    display: none;\n",
              "    fill: var(--fill-color);\n",
              "    height: 32px;\n",
              "    padding: 0;\n",
              "    width: 32px;\n",
              "  }\n",
              "\n",
              "  .colab-df-quickchart:hover {\n",
              "    background-color: var(--hover-bg-color);\n",
              "    box-shadow: 0 1px 2px rgba(60, 64, 67, 0.3), 0 1px 3px 1px rgba(60, 64, 67, 0.15);\n",
              "    fill: var(--button-hover-fill-color);\n",
              "  }\n",
              "\n",
              "  .colab-df-quickchart-complete:disabled,\n",
              "  .colab-df-quickchart-complete:disabled:hover {\n",
              "    background-color: var(--disabled-bg-color);\n",
              "    fill: var(--disabled-fill-color);\n",
              "    box-shadow: none;\n",
              "  }\n",
              "\n",
              "  .colab-df-spinner {\n",
              "    border: 2px solid var(--fill-color);\n",
              "    border-color: transparent;\n",
              "    border-bottom-color: var(--fill-color);\n",
              "    animation:\n",
              "      spin 1s steps(1) infinite;\n",
              "  }\n",
              "\n",
              "  @keyframes spin {\n",
              "    0% {\n",
              "      border-color: transparent;\n",
              "      border-bottom-color: var(--fill-color);\n",
              "      border-left-color: var(--fill-color);\n",
              "    }\n",
              "    20% {\n",
              "      border-color: transparent;\n",
              "      border-left-color: var(--fill-color);\n",
              "      border-top-color: var(--fill-color);\n",
              "    }\n",
              "    30% {\n",
              "      border-color: transparent;\n",
              "      border-left-color: var(--fill-color);\n",
              "      border-top-color: var(--fill-color);\n",
              "      border-right-color: var(--fill-color);\n",
              "    }\n",
              "    40% {\n",
              "      border-color: transparent;\n",
              "      border-right-color: var(--fill-color);\n",
              "      border-top-color: var(--fill-color);\n",
              "    }\n",
              "    60% {\n",
              "      border-color: transparent;\n",
              "      border-right-color: var(--fill-color);\n",
              "    }\n",
              "    80% {\n",
              "      border-color: transparent;\n",
              "      border-right-color: var(--fill-color);\n",
              "      border-bottom-color: var(--fill-color);\n",
              "    }\n",
              "    90% {\n",
              "      border-color: transparent;\n",
              "      border-bottom-color: var(--fill-color);\n",
              "    }\n",
              "  }\n",
              "</style>\n",
              "\n",
              "  <script>\n",
              "    async function quickchart(key) {\n",
              "      const quickchartButtonEl =\n",
              "        document.querySelector('#' + key + ' button');\n",
              "      quickchartButtonEl.disabled = true;  // To prevent multiple clicks.\n",
              "      quickchartButtonEl.classList.add('colab-df-spinner');\n",
              "      try {\n",
              "        const charts = await google.colab.kernel.invokeFunction(\n",
              "            'suggestCharts', [key], {});\n",
              "      } catch (error) {\n",
              "        console.error('Error during call to suggestCharts:', error);\n",
              "      }\n",
              "      quickchartButtonEl.classList.remove('colab-df-spinner');\n",
              "      quickchartButtonEl.classList.add('colab-df-quickchart-complete');\n",
              "    }\n",
              "    (() => {\n",
              "      let quickchartButtonEl =\n",
              "        document.querySelector('#df-e60369de-b980-4af8-90b9-6a64533691e5 button');\n",
              "      quickchartButtonEl.style.display =\n",
              "        google.colab.kernel.accessAllowed ? 'block' : 'none';\n",
              "    })();\n",
              "  </script>\n",
              "</div>\n",
              "\n",
              "    </div>\n",
              "  </div>\n"
            ],
            "application/vnd.google.colaboratory.intrinsic+json": {
              "type": "dataframe",
              "variable_name": "df"
            }
          },
          "metadata": {},
          "execution_count": 21
        }
      ]
    },
    {
      "cell_type": "markdown",
      "source": [
        "## ***Visualisations***\n"
      ],
      "metadata": {
        "id": "voMRxhvAyXOk"
      }
    },
    {
      "cell_type": "code",
      "source": [
        "df.dtypes"
      ],
      "metadata": {
        "colab": {
          "base_uri": "https://localhost:8080/",
          "height": 523
        },
        "id": "WUpx4tM4w61X",
        "outputId": "05cefe0c-403e-42f2-cd62-a2fc9afd3367"
      },
      "execution_count": 23,
      "outputs": [
        {
          "output_type": "execute_result",
          "data": {
            "text/plain": [
              "url                      object\n",
              "id                       object\n",
              "name                     object\n",
              "author                   object\n",
              "star_rating             float64\n",
              "num_ratings               int64\n",
              "num_reviews              object\n",
              "summary                  object\n",
              "genres                   object\n",
              "first_published          object\n",
              "about_author             object\n",
              "community_reviews        object\n",
              "kindle_price             object\n",
              "first_published_year      int64\n",
              "dtype: object"
            ],
            "text/html": [
              "<div>\n",
              "<style scoped>\n",
              "    .dataframe tbody tr th:only-of-type {\n",
              "        vertical-align: middle;\n",
              "    }\n",
              "\n",
              "    .dataframe tbody tr th {\n",
              "        vertical-align: top;\n",
              "    }\n",
              "\n",
              "    .dataframe thead th {\n",
              "        text-align: right;\n",
              "    }\n",
              "</style>\n",
              "<table border=\"1\" class=\"dataframe\">\n",
              "  <thead>\n",
              "    <tr style=\"text-align: right;\">\n",
              "      <th></th>\n",
              "      <th>0</th>\n",
              "    </tr>\n",
              "  </thead>\n",
              "  <tbody>\n",
              "    <tr>\n",
              "      <th>url</th>\n",
              "      <td>object</td>\n",
              "    </tr>\n",
              "    <tr>\n",
              "      <th>id</th>\n",
              "      <td>object</td>\n",
              "    </tr>\n",
              "    <tr>\n",
              "      <th>name</th>\n",
              "      <td>object</td>\n",
              "    </tr>\n",
              "    <tr>\n",
              "      <th>author</th>\n",
              "      <td>object</td>\n",
              "    </tr>\n",
              "    <tr>\n",
              "      <th>star_rating</th>\n",
              "      <td>float64</td>\n",
              "    </tr>\n",
              "    <tr>\n",
              "      <th>num_ratings</th>\n",
              "      <td>int64</td>\n",
              "    </tr>\n",
              "    <tr>\n",
              "      <th>num_reviews</th>\n",
              "      <td>object</td>\n",
              "    </tr>\n",
              "    <tr>\n",
              "      <th>summary</th>\n",
              "      <td>object</td>\n",
              "    </tr>\n",
              "    <tr>\n",
              "      <th>genres</th>\n",
              "      <td>object</td>\n",
              "    </tr>\n",
              "    <tr>\n",
              "      <th>first_published</th>\n",
              "      <td>object</td>\n",
              "    </tr>\n",
              "    <tr>\n",
              "      <th>about_author</th>\n",
              "      <td>object</td>\n",
              "    </tr>\n",
              "    <tr>\n",
              "      <th>community_reviews</th>\n",
              "      <td>object</td>\n",
              "    </tr>\n",
              "    <tr>\n",
              "      <th>kindle_price</th>\n",
              "      <td>object</td>\n",
              "    </tr>\n",
              "    <tr>\n",
              "      <th>first_published_year</th>\n",
              "      <td>int64</td>\n",
              "    </tr>\n",
              "  </tbody>\n",
              "</table>\n",
              "</div><br><label><b>dtype:</b> object</label>"
            ]
          },
          "metadata": {},
          "execution_count": 23
        }
      ]
    },
    {
      "cell_type": "code",
      "source": [
        "# Distribution of Star Ratings\n",
        "plt.figure(figsize=(8, 5))\n",
        "sns.histplot(df['star_rating'], bins=20, kde=True, color='skyblue')\n",
        "plt.title('Distribution of Star Ratings')\n",
        "plt.xlabel('Star Rating')\n",
        "plt.ylabel('Number of Books')\n",
        "plt.grid(True)\n",
        "plt.show()"
      ],
      "metadata": {
        "colab": {
          "base_uri": "https://localhost:8080/",
          "height": 487
        },
        "id": "hk9RVzlEyzFu",
        "outputId": "889efd3e-885a-4948-ddca-a2e53d21ead1"
      },
      "execution_count": 24,
      "outputs": [
        {
          "output_type": "display_data",
          "data": {
            "text/plain": [
              "<Figure size 800x500 with 1 Axes>"
            ],
            "image/png": "[encoded data removed]"
          },
          "metadata": {}
        }
      ]
    },
    {
      "cell_type": "code",
      "source": [
        "# Number of Books Published by Decade\n",
        "\n",
        "# Rounding the year to the nearest decade\n",
        "df['decade'] = (df['first_published_year'] // 10) * 10\n",
        "\n",
        "plt.figure(figsize=(12, 6))\n",
        "sns.countplot(data=df, x='decade', palette='viridis')\n",
        "plt.title(' Books Published per Decade', fontsize=16)\n",
        "plt.xlabel('Decade', fontsize=12)\n",
        "plt.ylabel('Number of Books', fontsize=12)\n",
        "plt.xticks(rotation=45)\n",
        "plt.tight_layout()\n",
        "plt.show()"
      ],
      "metadata": {
        "colab": {
          "base_uri": "https://localhost:8080/",
          "height": 698
        },
        "id": "-CBhfkubyzJC",
        "outputId": "8cebfa57-1fa0-4eb3-fd21-6e2fe490c618"
      },
      "execution_count": 26,
      "outputs": [
        {
          "output_type": "stream",
          "name": "stderr",
          "text": [
            "<ipython-input-26-79de68f13275>:7: FutureWarning: \n",
            "\n",
            "Passing `palette` without assigning `hue` is deprecated and will be removed in v0.14.0. Assign the `x` variable to `hue` and set `legend=False` for the same effect.\n",
            "\n",
            "  sns.countplot(data=df, x='decade', palette='viridis')\n"
          ]
        },
        {
          "output_type": "display_data",
          "data": {
            "text/plain": [
              "<Figure size 1200x600 with 1 Axes>"
            ],
            "image/png": "[encoded data removed]"
          },
          "metadata": {}
        }
      ]
    },
    {
      "cell_type": "code",
      "source": [
        "# Top 10 Most Common Genres\n",
        "genre_series = df['genres'].str.split(', ')\n",
        "genre_counts = Counter([g for sublist in genre_series for g in sublist])\n",
        "top_genres = dict(genre_counts.most_common(10))\n",
        "\n",
        "plt.figure(figsize=(8, 5))\n",
        "sns.barplot(x=list(top_genres.values()), y=list(top_genres.keys()), palette='viridis')\n",
        "plt.title('Top 10 Most Common Genres')\n",
        "plt.xlabel('Count')\n",
        "plt.ylabel('Genre')\n",
        "plt.show()"
      ],
      "metadata": {
        "colab": {
          "base_uri": "https://localhost:8080/",
          "height": 578
        },
        "id": "QvsOBWztyzNN",
        "outputId": "997da2c0-dc32-433c-edd7-05929f61cb5c"
      },
      "execution_count": 27,
      "outputs": [
        {
          "output_type": "stream",
          "name": "stderr",
          "text": [
            "<ipython-input-27-0f11c7ec4364>:7: FutureWarning: \n",
            "\n",
            "Passing `palette` without assigning `hue` is deprecated and will be removed in v0.14.0. Assign the `y` variable to `hue` and set `legend=False` for the same effect.\n",
            "\n",
            "  sns.barplot(x=list(top_genres.values()), y=list(top_genres.keys()), palette='viridis')\n"
          ]
        },
        {
          "output_type": "display_data",
          "data": {
            "text/plain": [
              "<Figure size 800x500 with 1 Axes>"
            ],
            "image/png": "[encoded data removed]"
          },
          "metadata": {}
        }
      ]
    },
    {
      "cell_type": "code",
      "source": [
        "#  Top 10 Most Frequent Authors\n",
        "author_series = df['author'].apply(lambda x: eval(x) if isinstance(x, str) else [])\n",
        "author_counts = Counter([a for sublist in author_series for a in sublist])\n",
        "top_authors = dict(author_counts.most_common(10))\n",
        "\n",
        "plt.figure(figsize=(8, 5))\n",
        "sns.barplot(x=list(top_authors.values()), y=list(top_authors.keys()), palette='magma')\n",
        "plt.title('Top 10 Most Frequent Authors')\n",
        "plt.xlabel('Number of Books')\n",
        "plt.ylabel('Author')\n",
        "plt.show()"
      ],
      "metadata": {
        "colab": {
          "base_uri": "https://localhost:8080/",
          "height": 578
        },
        "id": "ThfU9wIVyzRA",
        "outputId": "2fc0a46c-b58d-4d46-99e1-4b24369e7ddd"
      },
      "execution_count": 28,
      "outputs": [
        {
          "output_type": "stream",
          "name": "stderr",
          "text": [
            "<ipython-input-28-76ae68141262>:7: FutureWarning: \n",
            "\n",
            "Passing `palette` without assigning `hue` is deprecated and will be removed in v0.14.0. Assign the `y` variable to `hue` and set `legend=False` for the same effect.\n",
            "\n",
            "  sns.barplot(x=list(top_authors.values()), y=list(top_authors.keys()), palette='magma')\n"
          ]
        },
        {
          "output_type": "display_data",
          "data": {
            "text/plain": [
              "<Figure size 800x500 with 1 Axes>"
            ],
            "image/png": "[encoded data removed]"
          },
          "metadata": {}
        }
      ]
    },
    {
      "cell_type": "code",
      "source": [
        "# Star Ratings Across Top Genres (Box Plot)\n",
        "df_genres_flat = df.copy()\n",
        "df_genres_flat['genres'] = df_genres_flat['genres'].str.split(', ')\n",
        "df_genres_flat = df_genres_flat.explode('genres')\n",
        "\n",
        "top_genres_list = list(top_genres.keys())\n",
        "df_top_genres = df_genres_flat[df_genres_flat['genres'].isin(top_genres_list)]\n",
        "\n",
        "plt.figure(figsize=(10, 6))\n",
        "sns.boxplot(data=df_top_genres, x='genres', y='star_rating', palette='Set2')\n",
        "plt.title('Star Ratings Across Top Genres')\n",
        "plt.xlabel('Genre')\n",
        "plt.ylabel('Star Rating')\n",
        "plt.xticks(rotation=45)\n",
        "plt.tight_layout()\n",
        "plt.show()"
      ],
      "metadata": {
        "colab": {
          "base_uri": "https://localhost:8080/",
          "height": 698
        },
        "id": "ThnEeM5cqkeq",
        "outputId": "c2183c39-b36b-490e-de05-fabc9f2dbd81"
      },
      "execution_count": 29,
      "outputs": [
        {
          "output_type": "stream",
          "name": "stderr",
          "text": [
            "<ipython-input-29-d86e6f71185a>:10: FutureWarning: \n",
            "\n",
            "Passing `palette` without assigning `hue` is deprecated and will be removed in v0.14.0. Assign the `x` variable to `hue` and set `legend=False` for the same effect.\n",
            "\n",
            "  sns.boxplot(data=df_top_genres, x='genres', y='star_rating', palette='Set2')\n"
          ]
        },
        {
          "output_type": "display_data",
          "data": {
            "text/plain": [
              "<Figure size 1000x600 with 1 Axes>"
            ],
            "image/png": "[encoded data removed]"
          },
          "metadata": {}
        }
      ]
    },
    {
      "cell_type": "code",
      "source": [
        "# Heatmap of Average Star Ratings by Genre\n",
        "\n",
        "# Prepare data: explode genres to associate each book with individual genres\n",
        "df_genres_exp = df.copy()\n",
        "df_genres_exp['genres'] = df_genres_exp['genres'].str.split(', ')\n",
        "df_genres_exp = df_genres_exp.explode('genres')\n",
        "\n",
        "# Calculate average star rating per genre\n",
        "genre_rating_pivot = df_genres_exp.groupby('genres')['star_rating'].mean().sort_values(ascending=False).head(20)\n",
        "\n",
        "# Convert to DataFrame for heatmap\n",
        "genre_rating_df = genre_rating_pivot.reset_index().rename(columns={'genres': 'Genre', 'star_rating': 'Avg Rating'})\n",
        "\n",
        "# Plot heatmap\n",
        "plt.figure(figsize=(10, 6))\n",
        "sns.heatmap(genre_rating_df.pivot_table(index='Genre', values='Avg Rating'),\n",
        "            annot=True, fmt=\".2f\", cmap='YlGnBu', linewidths=.5)\n",
        "plt.title('🔥 Average Star Rating per Genre (Top 20)')\n",
        "plt.xlabel('Average Rating')\n",
        "plt.ylabel('Genre')\n",
        "plt.tight_layout()\n",
        "plt.show()"
      ],
      "metadata": {
        "colab": {
          "base_uri": "https://localhost:8080/",
          "height": 680
        },
        "id": "tWWCRXjtw64r",
        "outputId": "78885548-24a5-4140-b59b-1dd001d24284"
      },
      "execution_count": 30,
      "outputs": [
        {
          "output_type": "stream",
          "name": "stderr",
          "text": [
            "<ipython-input-30-1ca23fa8c68d>:21: UserWarning: Glyph 128293 (\\N{FIRE}) missing from font(s) DejaVu Sans.\n",
            "  plt.tight_layout()\n",
            "/usr/local/lib/python3.11/dist-packages/IPython/core/pylabtools.py:151: UserWarning: Glyph 128293 (\\N{FIRE}) missing from font(s) DejaVu Sans.\n",
            "  fig.canvas.print_figure(bytes_io, **kw)\n"
          ]
        },
        {
          "output_type": "display_data",
          "data": {
            "text/plain": [
              "<Figure size 1000x600 with 2 Axes>"
            ],
            "image/png": "[encoded data removed]"
          },
          "metadata": {}
        }
      ]
    },
    {
      "cell_type": "markdown",
      "source": [
        "##***SVD***\n",
        "This is a content-based book recommendation model using TF-IDF and dimensionality reduction with SVD. It also includes genre normalization and fuzzy title matching to improve recommendation quality and relevance.\n"
      ],
      "metadata": {
        "id": "P4T46XiiZ2qP"
      }
    },
    {
      "cell_type": "code",
      "source": [
        "!pip install fuzzywuzzy\n",
        "!pip install --upgrade pandas"
      ],
      "metadata": {
        "colab": {
          "base_uri": "https://localhost:8080/"
        },
        "id": "6C9Qa27hZLLv",
        "outputId": "ba898240-8dc8-42e8-a663-62225add4786"
      },
      "execution_count": 2,
      "outputs": [
        {
          "output_type": "stream",
          "name": "stdout",
          "text": [
            "Collecting fuzzywuzzy\n",
            "  Downloading fuzzywuzzy-0.18.0-py2.py3-none-any.whl.metadata (4.9 kB)\n",
            "Downloading fuzzywuzzy-0.18.0-py2.py3-none-any.whl (18 kB)\n",
            "Installing collected packages: fuzzywuzzy\n",
            "Successfully installed fuzzywuzzy-0.18.0\n",
            "Requirement already satisfied: pandas in /usr/local/lib/python3.11/dist-packages (2.2.2)\n",
            "Collecting pandas\n",
            "  Downloading pandas-2.2.3-cp311-cp311-manylinux_2_17_x86_64.manylinux2014_x86_64.whl.metadata (89 kB)\n",
            "\u001b[2K     \u001b[90m━━━━━━━━━━━━━━━━━━━━━━━━━━━━━━━━━━━━━━━━\u001b[0m \u001b[32m89.9/89.9 kB\u001b[0m \u001b[31m2.4 MB/s\u001b[0m eta \u001b[36m0:00:00\u001b[0m\n",
            "\u001b[?25hRequirement already satisfied: numpy>=1.23.2 in /usr/local/lib/python3.11/dist-packages (from pandas) (2.0.2)\n",
            "Requirement already satisfied: python-dateutil>=2.8.2 in /usr/local/lib/python3.11/dist-packages (from pandas) (2.8.2)\n",
            "Requirement already satisfied: pytz>=2020.1 in /usr/local/lib/python3.11/dist-packages (from pandas) (2025.2)\n",
            "Requirement already satisfied: tzdata>=2022.7 in /usr/local/lib/python3.11/dist-packages (from pandas) (2025.2)\n",
            "Requirement already satisfied: six>=1.5 in /usr/local/lib/python3.11/dist-packages (from python-dateutil>=2.8.2->pandas) (1.17.0)\n",
            "Downloading pandas-2.2.3-cp311-cp311-manylinux_2_17_x86_64.manylinux2014_x86_64.whl (13.1 MB)\n",
            "\u001b[2K   \u001b[90m━━━━━━━━━━━━━━━━━━━━━━━━━━━━━━━━━━━━━━━━\u001b[0m \u001b[32m13.1/13.1 MB\u001b[0m \u001b[31m65.7 MB/s\u001b[0m eta \u001b[36m0:00:00\u001b[0m\n",
            "\u001b[?25hInstalling collected packages: pandas\n",
            "  Attempting uninstall: pandas\n",
            "    Found existing installation: pandas 2.2.2\n",
            "    Uninstalling pandas-2.2.2:\n",
            "      Successfully uninstalled pandas-2.2.2\n",
            "\u001b[31mERROR: pip's dependency resolver does not currently take into account all the packages that are installed. This behaviour is the source of the following dependency conflicts.\n",
            "google-colab 1.0.0 requires pandas==2.2.2, but you have pandas 2.2.3 which is incompatible.\u001b[0m\u001b[31m\n",
            "\u001b[0mSuccessfully installed pandas-2.2.3\n"
          ]
        }
      ]
    },
    {
      "cell_type": "code",
      "source": [
        "# Import Libraries\n",
        "import pandas as pd\n",
        "import numpy as np\n",
        "import random\n",
        "from sklearn.feature_extraction.text import TfidfVectorizer\n",
        "from sklearn.metrics.pairwise import cosine_similarity\n",
        "from sklearn.model_selection import train_test_split\n",
        "from sklearn.linear_model import LogisticRegression\n",
        "from sklearn.ensemble import RandomForestClassifier\n",
        "from sklearn.metrics import f1_score, recall_score, precision_score\n",
        "import ipywidgets as widgets\n",
        "from IPython.display import display, Markdown\n",
        "from sklearn.decomposition import TruncatedSVD\n",
        "from sklearn.utils import shuffle\n",
        "from fuzzywuzzy import process\n",
        "import warnings\n",
        "warnings.filterwarnings(\"ignore\")"
      ],
      "metadata": {
        "id": "3ewYHXIZeu3V",
        "colab": {
          "base_uri": "https://localhost:8080/"
        },
        "outputId": "8ae695e1-9f3d-4823-a0e0-47c8f8be475c"
      },
      "execution_count": 3,
      "outputs": [
        {
          "output_type": "stream",
          "name": "stderr",
          "text": [
            "/usr/local/lib/python3.11/dist-packages/fuzzywuzzy/fuzz.py:11: UserWarning: Using slow pure-python SequenceMatcher. Install python-Levenshtein to remove this warning\n",
            "  warnings.warn('Using slow pure-python SequenceMatcher. Install python-Levenshtein to remove this warning')\n"
          ]
        }
      ]
    },
    {
      "cell_type": "code",
      "source": [
        "# Loading the clean dataset\n",
        "df = pd.read_csv('/content/cle.csv')"
      ],
      "metadata": {
        "id": "imDQmgVoYCPg"
      },
      "execution_count": 4,
      "outputs": []
    },
    {
      "cell_type": "code",
      "source": [
        "# Data Preprocessing\n",
        "df = df.dropna(subset=['name', 'author', 'genres'])\n",
        "df = df.sample(300, random_state=42).reset_index(drop=True)\n",
        "df['combined_features'] = df['name'] + ' ' + df['author'] + ' ' + df['genres']"
      ],
      "metadata": {
        "id": "pcUfLdUiYCS5"
      },
      "execution_count": 5,
      "outputs": []
    },
    {
      "cell_type": "code",
      "source": [
        "# Combining only 'name' and 'genres'\n",
        "df['combined_features'] = df['name'].fillna('') + ' ' + df['genres'].fillna('')"
      ],
      "metadata": {
        "id": "bQ-rB-kcZLOR"
      },
      "execution_count": 6,
      "outputs": []
    },
    {
      "cell_type": "code",
      "source": [
        "# Sample 1000 rows for speed\n",
        "df_sample = shuffle(df, random_state=42).head(1000).copy()"
      ],
      "metadata": {
        "id": "7nXuIan8ZLQq"
      },
      "execution_count": 7,
      "outputs": []
    },
    {
      "cell_type": "code",
      "source": [
        "# TF-IDF + SVD\n",
        "tfidf = TfidfVectorizer(stop_words='english')\n",
        "tfidf_matrix = tfidf.fit_transform(df_sample['combined_features'])\n",
        "\n",
        "svd = TruncatedSVD(n_components=50, random_state=42)\n",
        "svd_matrix = svd.fit_transform(tfidf_matrix)\n",
        "df_sample['svd_vector'] = list(svd_matrix)"
      ],
      "metadata": {
        "id": "qdH-ovDZZLTf"
      },
      "execution_count": 8,
      "outputs": []
    },
    {
      "cell_type": "code",
      "source": [
        "#Genre parsing + normalization\n",
        "genre_mapping = {\n",
        "    'historical fiction': 'fiction',\n",
        "    'literary fiction': 'fiction',\n",
        "    'adult fiction': 'fiction',\n",
        "    'nonfiction': 'non-fiction',\n",
        "    'biography': 'non-fiction',\n",
        "    'memoir': 'non-fiction',\n",
        "    'christian non fiction': 'non-fiction',\n",
        "    'academic': 'non-fiction',\n",
        "    'philosophy': 'non-fiction',\n",
        "    'finance': 'non-fiction',\n",
        "    'thriller': 'fiction',\n",
        "    'suspense': 'fiction',\n",
        "    'textbooks': 'non-fiction',\n",
        "    'political science': 'politics',\n",
        "    'canadian literature': 'fiction',\n",
        "}\n",
        "def parse_genres(genre_str):\n",
        "    return [g.strip().lower() for g in genre_str.split(',')] if isinstance(genre_str, str) else []\n",
        "\n",
        "def normalize_genres(genre_list):\n",
        "    normalized = set()\n",
        "    for g in genre_list:\n",
        "        core = genre_mapping.get(g.lower(), g.lower())\n",
        "        normalized.add(core)\n",
        "    return list(normalized)\n",
        "\n",
        "df_sample['genre_list'] = df_sample['genres'].apply(parse_genres).apply(normalize_genres)"
      ],
      "metadata": {
        "id": "AduYpYd9ZLV-"
      },
      "execution_count": 9,
      "outputs": []
    },
    {
      "cell_type": "code",
      "source": [
        "# Recommendation Function with F1 Score\n",
        "def recommend_books(input_title, top_n=10):\n",
        "    matched = process.extractOne(input_title, df_sample['name'], score_cutoff=60)\n",
        "\n",
        "    if not matched:\n",
        "        print(\" No close match found.\")\n",
        "        return\n",
        "\n",
        "    matched_title = matched[0]\n",
        "    print(f\" Best match found: {matched_title}\")\n",
        "\n",
        "    match_row = df_sample[df_sample['name'] == matched_title]\n",
        "    if match_row.empty:\n",
        "        print(\" Matched title not found in sample.\")\n",
        "        return\n",
        "\n",
        "    query_idx = match_row.index[0]\n",
        "    query_pos = df_sample.index.get_loc(query_idx)\n",
        "\n",
        "    query_vector = np.array(df_sample.iloc[query_pos]['svd_vector']).reshape(1, -1)\n",
        "    query_genres = set(df_sample.iloc[query_pos]['genre_list'])\n",
        "\n",
        "    scores = cosine_similarity(query_vector, svd_matrix).flatten()\n",
        "    scores[query_pos] = -1  # Exclude self\n",
        "\n",
        "    top_indices = scores.argsort()[::-1][:top_n]\n",
        "\n",
        "    print(f\"\\n Query Book: {matched_title}\")\n",
        "    print(f\" Genres: {query_genres}\")\n",
        "    print(\"\\n Top Recommendations:\")\n",
        "\n",
        "    relevant = []\n",
        "    for i, idx in enumerate(top_indices, 1):\n",
        "        rec_title = df_sample.iloc[idx]['name']\n",
        "        rec_genres = set(df_sample.iloc[idx]['genre_list'])\n",
        "        is_relevant = bool(query_genres & rec_genres)\n",
        "        relevant.append(1 if is_relevant else 0)\n",
        "        mark = \"Good :) \" if is_relevant else \"Try Again :()\"\n",
        "        print(f\"{i}. {rec_title} ({', '.join(rec_genres)}) {mark}\")\n",
        "\n",
        "    precision = sum(relevant) / top_n\n",
        "    total_relevant = sum(1 for genres in df_sample['genre_list'] if query_genres & set(genres))\n",
        "    recall = sum(relevant) / total_relevant if total_relevant > 0 else 0\n",
        "    f1_score = (2 * precision * recall) / (precision + recall) if (precision + recall) > 0 else 0\n",
        "\n",
        "    print(f\"\\n Precision@{top_n}: {precision:.2f}\")\n",
        "    print(f\" Recall@{top_n}: {recall:.2f}\")\n",
        "    print(f\" F1 Score@{top_n}: {f1_score:.2f}\")\n",
        "\n",
        "# Optional: Evaluate model performance over multiple samples\n",
        "def evaluate_model(model_matrix, df_sample, top_n=10, sample_size=100):\n",
        "    from random import sample\n",
        "    total_precision, total_recall, total_f1 = 0, 0, 0\n",
        "\n",
        "    sampled_indices = sample(range(len(df_sample)), min(sample_size, len(df_sample)))\n",
        "\n",
        "    for idx in sampled_indices:\n",
        "        query_vector = np.array(df_sample.iloc[idx]['svd_vector']).reshape(1, -1)\n",
        "        query_genres = set(df_sample.iloc[idx]['genre_list'])\n",
        "\n",
        "        if not query_genres:\n",
        "            continue  # skip if genres are empty\n",
        "\n",
        "        scores = cosine_similarity(query_vector, model_matrix).flatten()"
      ],
      "metadata": {
        "id": "5MQga0GvZLYp"
      },
      "execution_count": 10,
      "outputs": []
    },
    {
      "cell_type": "code",
      "source": [
        "# Run the recommendation system\n",
        "book_name = input(\" Enter the name of the book you want recommendations for: \")\n",
        "recommend_books(book_name, top_n=10)\n",
        "evaluate_model(svd_matrix, df_sample, top_n=10, sample_size=100)"
      ],
      "metadata": {
        "id": "RRIFT83ZZLbb",
        "colab": {
          "base_uri": "https://localhost:8080/"
        },
        "outputId": "73c0df42-bd44-4104-ce2f-81220886c356"
      },
      "execution_count": 11,
      "outputs": [
        {
          "output_type": "stream",
          "name": "stdout",
          "text": [
            " Enter the name of the book you want recommendations for: Servamp 7\n",
            " Best match found: Servamp 7\n",
            "\n",
            " Query Book: Servamp 7\n",
            " Genres: {'manga', 'fantasy', 'vampires'}\n",
            "\n",
            " Top Recommendations:\n",
            "1. Nido di vespe (manga) Good :) \n",
            "2. Bloodforged (dark fantasy, fantasy, fiction, vampires) Good :) \n",
            "3. Il fiume Shinano 2 (manga, seinen) Good :) \n",
            "4. ãããã¯çæï¼ï¼ï¼ (ããã°ã³ããã¯ã¹) (manga) Good :) \n",
            "5. æ°ããã¹ã®çå­æ§ 17 [Shin Tennis no Åjisama 17] (manga) Good :) \n",
            "6. TrÃ¤nenschloss (Fesseln der Dunkelheit 3) (paranormal, fantasy, vampires) Good :) \n",
            "7. Papavera - Der Ring des Kreuzritters (fantasy) Good :) \n",
            "8. Smirt (fantasy) Good :) \n",
            "9. Elvangar (fantasy) Good :) \n",
            "10. Seed (fantasy) Good :) \n",
            "\n",
            " Precision@10: 1.00\n",
            " Recall@10: 0.29\n",
            " F1 Score@10: 0.44\n"
          ]
        }
      ]
    },
    {
      "cell_type": "markdown",
      "source": [
        "## ***KNN + TF-IDF***\n",
        "This model recommends books based on a user's input title by analyzing book content features (genres, summary, author, and publication year) using TF-IDF and a K-Nearest Neighbors algorithm. It evaluates recommendations using precision and recall to match similar genres."
      ],
      "metadata": {
        "id": "xUA5i0jDFaAv"
      }
    },
    {
      "cell_type": "code",
      "source": [
        "import pandas as pd\n",
        "import numpy as np\n",
        "import ast\n",
        "import re\n",
        "from sklearn.feature_extraction.text import TfidfVectorizer\n",
        "from sklearn.neighbors import NearestNeighbors"
      ],
      "metadata": {
        "id": "x7FszrmJeu8s"
      },
      "execution_count": 12,
      "outputs": []
    },
    {
      "cell_type": "code",
      "source": [
        "# Load and preprocess the dataset\n",
        "def load_and_preprocess_data(file_path):\n",
        "    df = pd.read_csv(\"/content/cle.csv\", encoding='utf-8', on_bad_lines='skip')\n",
        "    df = df[['name', 'author', 'summary', 'genres', 'first_published_year']].dropna()\n",
        "\n",
        "    df['first_published_year'] = df['first_published_year'].astype(str)\n",
        "    df['genres'] = df['genres'].astype(str)\n",
        "    df['summary'] = df['summary'].astype(str)\n",
        "\n",
        "    df['content'] = (\n",
        "        df['genres'] + \" genre \" +\n",
        "        df['summary'] + \" written by \" +\n",
        "        df['author'].astype(str) + \" published in \" +\n",
        "        df['first_published_year']\n",
        "    )\n",
        "    return df"
      ],
      "metadata": {
        "id": "pgyfNwBiGVpa"
      },
      "execution_count": 13,
      "outputs": []
    },
    {
      "cell_type": "code",
      "source": [
        "# Train TF-IDF + KNN model\n",
        "def train_tfidf_knn_model(df, n_neighbors=10):\n",
        "    tfidf = TfidfVectorizer(stop_words='english', max_features=5000)\n",
        "    tfidf_matrix = tfidf.fit_transform(df['content'])\n",
        "    knn = NearestNeighbors(metric='cosine', algorithm='brute', n_neighbors=n_neighbors)\n",
        "    knn.fit(tfidf_matrix)\n",
        "    return tfidf_matrix, knn"
      ],
      "metadata": {
        "id": "soUkTvqqGVtR"
      },
      "execution_count": 14,
      "outputs": []
    },
    {
      "cell_type": "code",
      "source": [
        "# Recommend books\n",
        "def recommend_books(book_title, df, tfidf_matrix, knn, n_recommendations=10):\n",
        "    if book_title not in df['name'].values:\n",
        "        return None, None, \" Book not found.\"\n",
        "\n",
        "    idx = df[df['name'] == book_title].index[0]\n",
        "    book_vec = tfidf_matrix[idx]\n",
        "    input_genres = df.iloc[idx]['genres']\n",
        "\n",
        "    distances, indices = knn.kneighbors(book_vec, return_distance=True)\n",
        "    recommended_indices = indices[0][1:n_recommendations+1]\n",
        "    recommended_books = df.iloc[recommended_indices][['name', 'author', 'genres', 'first_published_year']]\n",
        "    return input_genres, recommended_books, None\n",
        "\n",
        "#  Evaluate recommendations\n",
        "def evaluate_recommendations(input_genres, recommended_df):\n",
        "    input_set = set(g.strip().lower() for g in input_genres.split(',') if g)\n",
        "    matched = set()\n",
        "    true_positives = 0\n",
        "\n",
        "    for genres in recommended_df['genres']:\n",
        "        rec_set = set(g.strip().lower() for g in str(genres).split(',') if g)\n",
        "        overlap = input_set & rec_set\n",
        "        if overlap:\n",
        "            true_positives += 1\n",
        "            matched |= overlap\n",
        "\n",
        "    precision = true_positives / len(recommended_df) if len(recommended_df) > 0 else 0\n",
        "    recall = len(matched) / len(input_set) if len(input_set) > 0 else 0\n",
        "    f1_score = (2 * precision * recall) / (precision + recall) if (precision + recall) else 0\n",
        "    return precision, recall, f1_score"
      ],
      "metadata": {
        "id": "etmJdNt9YY5u"
      },
      "execution_count": 15,
      "outputs": []
    },
    {
      "cell_type": "code",
      "source": [
        "#  Run the model\n",
        "file_path = '/content/cle.csv'\n",
        "\n",
        "print(\" Loading and preparing data...\")\n",
        "df = load_and_preprocess_data(file_path)\n",
        "tfidf_matrix, knn_model = train_tfidf_knn_model(df)\n",
        "print(\" Model is ready!\\n\")\n",
        "\n",
        "# Run interactive loop\n",
        "while True:\n",
        "    book_title = input(\" Enter a book title (or type 'exit'):\\n\")\n",
        "    if book_title.lower() == 'exit':\n",
        "        print(\" Exiting. Have a great day!\")\n",
        "        break\n",
        "\n",
        "    input_genres, recommended_df, error = recommend_books(book_title, df, tfidf_matrix, knn_model)\n",
        "    if error:\n",
        "        print(error)\n",
        "        continue\n",
        "\n",
        "    print(\"\\n Recommended Books:\")\n",
        "    print(recommended_df.to_string(index=False))\n",
        "\n",
        "    precision, recall, f1 = evaluate_recommendations(input_genres, recommended_df)\n",
        "    print(f\"\\n Evaluation:\\nPrecision: {precision:.2f}\\nRecall: {recall:.2f}\\nF1 Score: {f1:.2f}\\n\")\n"
      ],
      "metadata": {
        "colab": {
          "base_uri": "https://localhost:8080/"
        },
        "id": "_p7oNbdPSdyk",
        "outputId": "0f2b6725-943b-457d-bf69-3bf8173a4fcb"
      },
      "execution_count": 16,
      "outputs": [
        {
          "output_type": "stream",
          "name": "stdout",
          "text": [
            " Loading and preparing data...\n",
            " Model is ready!\n",
            "\n",
            " Enter a book title (or type 'exit'):\n",
            "Servamp 7\n",
            "\n",
            " Recommended Books:\n",
            "                                                                                                         name                  author                                                           genres first_published_year\n",
            "Die Â»westliche KulturÂ« und ihr Anderes: Zur Dekonstruktion von Orientalismus und antimuslimischem Rassismus          ['Iman Attia']                                                       Nonfiction                 2009\n",
            "                                                      Kalender der Welt: Eine Reise durch Zeiten und Kulturen     ['Margo Westrheim']                                                          History                 1993\n",
            "                            Schlaf in tÃ¶dlicher Ruh: Nordsee-Krimi (John Benthien: Die Jahreszeiten-Reihe 1)        ['Nina Ohlandt']                                                        Audiobook                 2016\n",
            "                                                                       Die Augen des Riggers (Shadowrun, #11) ['Hans-Joachim Alpers'] Science Fiction, Cyberpunk, Fiction, Germany, Role Playing Games                 1994\n",
            "                                   Die autoritÃ¤re Revolte. Die Neue Rechte und der Untergang des Abendlandes     ['Volker WeiÃ\\x9f']                                             Nonfiction, Politics                 2017\n",
            "                                                         Afrokultur: Â»der raum zwischen gestern und morgenÂ«    ['Natasha A. Kelly']                                                       Nonfiction                 2016\n",
            "                                                                                                  Seelenfeuer     ['Cornelia Haller']                                               Historical Fiction                 2012\n",
            "                                                                   Was ist Kritik?: Philosophische Positionen        ['Rahel Jaeggi']                                                       Philosophy                 2009\n",
            "                                                                                                  Die Drachen        ['Julia Conrad']                                   Fantasy, High Fantasy, Dragons                 2008\n",
            "\n",
            " Evaluation:\n",
            "Precision: 0.11\n",
            "Recall: 0.33\n",
            "F1 Score: 0.17\n",
            "\n",
            " Enter a book title (or type 'exit'):\n",
            "Zen and the art of Recording\n",
            " Book not found.\n",
            " Enter a book title (or type 'exit'):\n",
            "exit\n",
            " Exiting. Have a great day!\n"
          ]
        }
      ]
    },
    {
      "cell_type": "markdown",
      "source": [
        "### ***Comparative Study Analysis***"
      ],
      "metadata": {
        "id": "4nEDtcINjPDl"
      }
    },
    {
      "cell_type": "code",
      "source": [
        "# Book Recommendation Evaluation (please restart the kernel before running - as there can be memory leakage)\n",
        "import pandas as pd\n",
        "import numpy as np\n",
        "from sklearn.feature_extraction.text import TfidfVectorizer\n",
        "from sklearn.decomposition import TruncatedSVD\n",
        "from sklearn.neighbors import NearestNeighbors\n",
        "from sklearn.metrics.pairwise import cosine_similarity"
      ],
      "metadata": {
        "id": "FsKhvdN1jgVT"
      },
      "execution_count": 2,
      "outputs": []
    },
    {
      "cell_type": "code",
      "source": [
        "#  Load and preprocess data\n",
        "def load_data(path):\n",
        "    df = pd.read_csv(path, on_bad_lines='skip', encoding='utf-8')\n",
        "    df = df[['name', 'author', 'summary', 'genres', 'first_published_year']].dropna()\n",
        "    df['genres'] = df['genres'].astype(str)\n",
        "    df['summary'] = df['summary'].astype(str)\n",
        "    df['first_published_year'] = df['first_published_year'].astype(str)\n",
        "    df['content'] = df['genres'] + \" genre \" + df['summary'] + \" written by \" + df['author'] + \" published in \" + df['first_published_year']\n",
        "    return df"
      ],
      "metadata": {
        "id": "2iwWTKMkk9S0"
      },
      "execution_count": 3,
      "outputs": []
    },
    {
      "cell_type": "code",
      "source": [
        "#  Parse genres\n",
        "def parse_genres(genre_str):\n",
        "    return [g.strip().lower() for g in genre_str.split(',')] if isinstance(genre_str, str) else []"
      ],
      "metadata": {
        "id": "IuvmKwOpJwJO"
      },
      "execution_count": 4,
      "outputs": []
    },
    {
      "cell_type": "code",
      "source": [
        "#  Evaluation function\n",
        "def evaluate(query_genres, rec_genres_list, k=10):\n",
        "    query_set = set(parse_genres(query_genres))\n",
        "    true_positives = 0\n",
        "    matched = set()\n",
        "\n",
        "    for rec_genres in rec_genres_list:\n",
        "        rec_set = set(parse_genres(rec_genres))\n",
        "        if query_set & rec_set:\n",
        "            true_positives += 1\n",
        "            matched |= (query_set & rec_set)\n",
        "\n",
        "    precision = true_positives / k if k > 0 else 0\n",
        "    recall = len(matched) / len(query_set) if query_set else 0\n",
        "    f1 = (2 * precision * recall) / (precision + recall) if (precision + recall) else 0\n",
        "    return precision, recall, f1"
      ],
      "metadata": {
        "id": "1yGuMGdek9Wh"
      },
      "execution_count": 5,
      "outputs": []
    },
    {
      "cell_type": "code",
      "source": [
        "#  TF-IDF + KNN Recommender\n",
        "def knn_recommend(df, tfidf_matrix, model, idx, k=10):\n",
        "    query_vec = tfidf_matrix[idx]\n",
        "    distances, neighbors = model.kneighbors(query_vec, return_distance=True)\n",
        "    neighbors = neighbors[0][1:k+1]  # exclude itself\n",
        "    return df.iloc[neighbors]['genres'].tolist()"
      ],
      "metadata": {
        "id": "Bxx0J60Jk9aw"
      },
      "execution_count": 6,
      "outputs": []
    },
    {
      "cell_type": "code",
      "source": [
        "#  SVD Recommender\n",
        "def svd_recommend(df, svd_matrix, idx, k=10):\n",
        "    query_vec = svd_matrix[idx].reshape(1, -1)\n",
        "    similarity_scores = cosine_similarity(query_vec, svd_matrix).flatten()\n",
        "    similarity_scores[idx] = -1\n",
        "    top_indices = similarity_scores.argsort()[::-1][:k]\n",
        "    return df.iloc[top_indices]['genres'].tolist()"
      ],
      "metadata": {
        "id": "lMVbVqKvoDWl"
      },
      "execution_count": 7,
      "outputs": []
    },
    {
      "cell_type": "code",
      "source": [
        "#  Main comparison\n",
        "def compare_models_interactive():\n",
        "    path = \"/content/cle.csv\"\n",
        "    df = load_data(path)\n",
        "\n",
        "    # User input\n",
        "    book_1 = input(\"Enter the name of the first book: \").strip().lower()\n",
        "    book_2 = input(\"Enter the name of the second book: \").strip().lower()\n",
        "\n",
        "    tfidf = TfidfVectorizer(stop_words='english', max_features=5000)\n",
        "    tfidf_matrix = tfidf.fit_transform(df['content'])\n",
        "    knn_model = NearestNeighbors(metric='cosine', algorithm='brute', n_neighbors=11)\n",
        "    knn_model.fit(tfidf_matrix)\n",
        "\n",
        "    tfidf_svd = TfidfVectorizer(stop_words='english')\n",
        "    svd_matrix = tfidf_svd.fit_transform(df['name'] + ' ' + df['genres'])\n",
        "    svd_model = TruncatedSVD(n_components=50, random_state=42)\n",
        "    svd_matrix = svd_model.fit_transform(svd_matrix)\n",
        "\n",
        "    results = []\n",
        "    for book_name in [book_1, book_2]:\n",
        "        match = df[df['name'].str.lower().str.contains(book_name)]\n",
        "        if match.empty:\n",
        "            print(f\" Book not found for input: '{book_name}'\")\n",
        "            continue\n",
        "\n",
        "        idx = match.index[0]\n",
        "        genres = df.iloc[idx]['genres']\n",
        "\n",
        "        knn_recs = knn_recommend(df, tfidf_matrix, knn_model, idx)\n",
        "        svd_recs = svd_recommend(df, svd_matrix, idx)\n",
        "\n",
        "        knn_p, knn_r, knn_f1 = evaluate(genres, knn_recs)\n",
        "        svd_p, svd_r, svd_f1 = evaluate(genres, svd_recs)\n",
        "\n",
        "        results.append({\n",
        "            'book': df.iloc[idx]['name'],\n",
        "            'KNN': (knn_p, knn_r, knn_f1),\n",
        "            'SVD': (svd_p, svd_r, svd_f1)\n",
        "        })\n",
        "\n",
        "    #  Summary\n",
        "    print(\"\\n Evaluation Results:\")\n",
        "    print(f\"{'Book':<35} {'Model':<10} {'Precision':<10} {'Recall':<10} {'F1 Score'}\")\n",
        "    print(\"-\" * 70)\n",
        "    avg_knn_f1 = 0\n",
        "    avg_svd_f1 = 0\n",
        "    for res in results:\n",
        "        print(f\"{res['book']:<35} {'KNN':<10} {res['KNN'][0]:.2f}      {res['KNN'][1]:.2f}      {res['KNN'][2]:.2f}\")\n",
        "        print(f\"{res['book']:<35} {'SVD':<10} {res['SVD'][0]:.2f}      {res['SVD'][1]:.2f}      {res['SVD'][2]:.2f}\")\n",
        "        avg_knn_f1 += res['KNN'][2]\n",
        "        avg_svd_f1 += res['SVD'][2]\n",
        "\n",
        "    if results:\n",
        "        avg_knn_f1 /= len(results)\n",
        "        avg_svd_f1 /= len(results)\n",
        "        better = \"KNN\" if avg_knn_f1 > avg_svd_f1 else \"SVD\"\n",
        "        print(f\"\\n Based on your selected books, the better model is: **{better}** (Avg F1 Score: {max(avg_knn_f1, avg_svd_f1):.2f})\")\n",
        "    else:\n",
        "        print(\" No valid book matches found. Please try again with known titles from the dataset.\")\n",
        "\n",
        "#Run it!\n",
        "compare_models_interactive()"
      ],
      "metadata": {
        "colab": {
          "base_uri": "https://localhost:8080/"
        },
        "id": "w8qkK6-OoDam",
        "outputId": "3a178bfc-c2d9-4ce8-a49b-32f5e6e0dcf9"
      },
      "execution_count": 8,
      "outputs": [
        {
          "output_type": "stream",
          "name": "stdout",
          "text": [
            "Enter the name of the first book: Servamp 7\n",
            "Enter the name of the second book: Zen and the art of Recording\n",
            "\n",
            " Evaluation Results:\n",
            "Book                                Model      Precision  Recall     F1 Score\n",
            "----------------------------------------------------------------------\n",
            "Servamp 7                           KNN        0.10      0.33      0.15\n",
            "Servamp 7                           SVD        1.00      1.00      1.00\n",
            "Zen and the Art of Recording        KNN        1.00      1.00      1.00\n",
            "Zen and the Art of Recording        SVD        1.00      1.00      1.00\n",
            "\n",
            " Based on your selected books, the better model is: **SVD** (Avg F1 Score: 1.00)\n"
          ]
        }
      ]
    }
  ]
}